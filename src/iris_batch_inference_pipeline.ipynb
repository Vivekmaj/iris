{
 "cells": [
  {
   "cell_type": "code",
   "execution_count": 1,
   "metadata": {},
   "outputs": [
    {
     "name": "stderr",
     "output_type": "stream",
     "text": [
      "c:\\Users\\vivek\\Documents\\iris\\venv\\lib\\site-packages\\tqdm\\auto.py:21: TqdmWarning: IProgress not found. Please update jupyter and ipywidgets. See https://ipywidgets.readthedocs.io/en/stable/user_install.html\n",
      "  from .autonotebook import tqdm as notebook_tqdm\n"
     ]
    }
   ],
   "source": [
    "import os\n",
    "import pandas as pd\n",
    "import hopsworks\n",
    "import joblib\n",
    "from datetime import datetime\n",
    "from sklearn.base import BaseEstimator, TransformerMixin\n",
    "from PIL import Image\n",
    "from dotenv import load_dotenv\n",
    "from src.paths import PARENT_DIR"
   ]
  },
  {
   "cell_type": "code",
   "execution_count": 2,
   "metadata": {},
   "outputs": [
    {
     "name": "stdout",
     "output_type": "stream",
     "text": [
      "Connected. Call `.close()` to terminate connection gracefully.\n",
      "\n",
      "Logged in to project, explore it here https://c.app.hopsworks.ai:443/p/552084\n",
      "Connected. Call `.close()` to terminate connection gracefully.\n"
     ]
    }
   ],
   "source": [
    "HOPSWORKS_PROJECT_NAME = 'Vivekmaj1'\n",
    "\n",
    "# load key-value pairs from .env file located in the parent directory\n",
    "load_dotenv(PARENT_DIR / '.env')\n",
    "\n",
    "HOPSWORKS_API_KEY = os.environ['HOPSWORKS_API_KEY']\n",
    "\n",
    "project = hopsworks.login(\n",
    "    project=HOPSWORKS_PROJECT_NAME,\n",
    "    api_key_value=HOPSWORKS_API_KEY\n",
    ")\n",
    "\n",
    "fs = project.get_feature_store()"
   ]
  },
  {
   "cell_type": "code",
   "execution_count": 3,
   "metadata": {},
   "outputs": [],
   "source": [
    "feature_view = fs.get_feature_view(name=\"iris\", version=1)"
   ]
  },
  {
   "cell_type": "code",
   "execution_count": 4,
   "metadata": {},
   "outputs": [],
   "source": [
    "class ExtractExtraFeatures(BaseEstimator, TransformerMixin):\n",
    "    def __init__(self):\n",
    "        pass\n",
    "\n",
    "    def fit(self, X, y=None):\n",
    "        return self\n",
    "\n",
    "    def transform(self, X, y=None):\n",
    "        # Create new features\n",
    "        X['sepal_area'] = X['sepal_length'] * X['sepal_width']\n",
    "        X['petal_area'] = X['petal_length'] * X['petal_width']\n",
    "        X['sepal_petal_length_diff'] = X['sepal_length'] - X['petal_length']\n",
    "        X['sepal_petal_width_diff'] = X['sepal_width'] - X['petal_width']\n",
    "        X['sepal_length_to_width'] = X['sepal_length'] / X['sepal_width']\n",
    "        X['petal_length_to_width'] = X['petal_length'] / X['petal_width']\n",
    "        \n",
    "        return X"
   ]
  },
  {
   "cell_type": "code",
   "execution_count": 5,
   "metadata": {},
   "outputs": [
    {
     "name": "stdout",
     "output_type": "stream",
     "text": [
      "Connected. Call `.close()` to terminate connection gracefully.\n",
      "Downloading model artifact (0 dirs, 4 files)... DONE\r"
     ]
    }
   ],
   "source": [
    "mr = project.get_model_registry()\n",
    "model = mr.get_model(\"iris_model\", version=1)\n",
    "model_dir = model.download()\n",
    "model = joblib.load(model_dir + \"/iris_model.pkl\")"
   ]
  },
  {
   "cell_type": "code",
   "execution_count": 6,
   "metadata": {},
   "outputs": [
    {
     "name": "stdout",
     "output_type": "stream",
     "text": [
      "Finished: Reading data from Hopsworks, using ArrowFlight (0.77s) \n"
     ]
    },
    {
     "data": {
      "text/plain": [
       "array(['Setosa', 'Versicolor', 'Virginica', 'Versicolor', 'Setosa',\n",
       "       'Versicolor', 'Virginica', 'Versicolor', 'Setosa', 'Setosa',\n",
       "       'Setosa', 'Setosa', 'Virginica', 'Virginica', 'Setosa',\n",
       "       'Virginica', 'Versicolor', 'Setosa', 'Versicolor', 'Versicolor',\n",
       "       'Setosa', 'Versicolor', 'Setosa', 'Setosa', 'Versicolor',\n",
       "       'Versicolor', 'Virginica', 'Virginica', 'Virginica', 'Versicolor',\n",
       "       'Versicolor', 'Setosa', 'Setosa', 'Virginica', 'Setosa',\n",
       "       'Virginica', 'Setosa', 'Versicolor', 'Virginica', 'Versicolor',\n",
       "       'Virginica', 'Setosa', 'Versicolor', 'Virginica', 'Versicolor',\n",
       "       'Setosa', 'Versicolor', 'Versicolor', 'Virginica', 'Setosa',\n",
       "       'Setosa', 'Virginica', 'Virginica', 'Versicolor', 'Versicolor',\n",
       "       'Virginica', 'Versicolor', 'Versicolor', 'Versicolor', 'Setosa',\n",
       "       'Virginica', 'Virginica', 'Virginica', 'Setosa', 'Virginica',\n",
       "       'Setosa', 'Versicolor', 'Versicolor', 'Setosa', 'Setosa', 'Setosa',\n",
       "       'Virginica', 'Versicolor', 'Versicolor', 'Versicolor', 'Virginica',\n",
       "       'Versicolor', 'Virginica', 'Versicolor', 'Setosa', 'Setosa',\n",
       "       'Setosa', 'Virginica', 'Virginica', 'Versicolor', 'Setosa',\n",
       "       'Versicolor', 'Virginica', 'Setosa', 'Virginica', 'Virginica',\n",
       "       'Virginica', 'Versicolor', 'Versicolor', 'Versicolor', 'Setosa',\n",
       "       'Setosa', 'Setosa', 'Versicolor', 'Virginica', 'Virginica',\n",
       "       'Setosa', 'Setosa', 'Versicolor', 'Virginica', 'Setosa',\n",
       "       'Versicolor', 'Virginica', 'Versicolor', 'Virginica', 'Setosa',\n",
       "       'Versicolor', 'Virginica', 'Setosa', 'Setosa', 'Versicolor',\n",
       "       'Versicolor', 'Setosa', 'Versicolor', 'Versicolor', 'Virginica',\n",
       "       'Versicolor', 'Setosa', 'Virginica', 'Versicolor', 'Virginica',\n",
       "       'Versicolor', 'Virginica', 'Virginica', 'Setosa', 'Versicolor',\n",
       "       'Versicolor', 'Setosa', 'Setosa', 'Virginica', 'Versicolor',\n",
       "       'Virginica', 'Setosa', 'Setosa', 'Versicolor', 'Setosa',\n",
       "       'Virginica', 'Setosa', 'Setosa', 'Versicolor', 'Virginica',\n",
       "       'Virginica', 'Virginica', 'Setosa'], dtype=object)"
      ]
     },
     "execution_count": 6,
     "metadata": {},
     "output_type": "execute_result"
    }
   ],
   "source": [
    "batch_data = feature_view.get_batch_data()\n",
    "\n",
    "y_pred = model.predict(batch_data)\n",
    "\n",
    "y_pred"
   ]
  },
  {
   "cell_type": "code",
   "execution_count": 7,
   "metadata": {},
   "outputs": [],
   "source": [
    "flower = y_pred[y_pred.size-1]\n",
    "flower_img = \"../assets/\" + flower + \".png\"\n",
    "img = Image.open(flower_img)            \n",
    "\n",
    "img.save(\"../assets/latest_iris.png\")"
   ]
  },
  {
   "cell_type": "code",
   "execution_count": 8,
   "metadata": {},
   "outputs": [
    {
     "name": "stdout",
     "output_type": "stream",
     "text": [
      "Finished: Reading data from Hopsworks, using ArrowFlight (0.68s) \n"
     ]
    },
    {
     "data": {
      "text/html": [
       "<div>\n",
       "<style scoped>\n",
       "    .dataframe tbody tr th:only-of-type {\n",
       "        vertical-align: middle;\n",
       "    }\n",
       "\n",
       "    .dataframe tbody tr th {\n",
       "        vertical-align: top;\n",
       "    }\n",
       "\n",
       "    .dataframe thead th {\n",
       "        text-align: right;\n",
       "    }\n",
       "</style>\n",
       "<table border=\"1\" class=\"dataframe\">\n",
       "  <thead>\n",
       "    <tr style=\"text-align: right;\">\n",
       "      <th></th>\n",
       "      <th>sepal_length</th>\n",
       "      <th>sepal_width</th>\n",
       "      <th>petal_length</th>\n",
       "      <th>petal_width</th>\n",
       "      <th>variety</th>\n",
       "    </tr>\n",
       "  </thead>\n",
       "  <tbody>\n",
       "    <tr>\n",
       "      <th>0</th>\n",
       "      <td>5.700000</td>\n",
       "      <td>3.800000</td>\n",
       "      <td>1.700000</td>\n",
       "      <td>0.300000</td>\n",
       "      <td>Setosa</td>\n",
       "    </tr>\n",
       "    <tr>\n",
       "      <th>1</th>\n",
       "      <td>5.600000</td>\n",
       "      <td>2.700000</td>\n",
       "      <td>4.200000</td>\n",
       "      <td>1.300000</td>\n",
       "      <td>Versicolor</td>\n",
       "    </tr>\n",
       "    <tr>\n",
       "      <th>2</th>\n",
       "      <td>6.300000</td>\n",
       "      <td>3.300000</td>\n",
       "      <td>6.000000</td>\n",
       "      <td>2.500000</td>\n",
       "      <td>Virginica</td>\n",
       "    </tr>\n",
       "    <tr>\n",
       "      <th>3</th>\n",
       "      <td>6.000000</td>\n",
       "      <td>2.900000</td>\n",
       "      <td>4.500000</td>\n",
       "      <td>1.500000</td>\n",
       "      <td>Versicolor</td>\n",
       "    </tr>\n",
       "    <tr>\n",
       "      <th>4</th>\n",
       "      <td>5.000000</td>\n",
       "      <td>3.000000</td>\n",
       "      <td>1.600000</td>\n",
       "      <td>0.200000</td>\n",
       "      <td>Setosa</td>\n",
       "    </tr>\n",
       "    <tr>\n",
       "      <th>...</th>\n",
       "      <td>...</td>\n",
       "      <td>...</td>\n",
       "      <td>...</td>\n",
       "      <td>...</td>\n",
       "      <td>...</td>\n",
       "    </tr>\n",
       "    <tr>\n",
       "      <th>145</th>\n",
       "      <td>6.200000</td>\n",
       "      <td>2.800000</td>\n",
       "      <td>4.800000</td>\n",
       "      <td>1.800000</td>\n",
       "      <td>Virginica</td>\n",
       "    </tr>\n",
       "    <tr>\n",
       "      <th>146</th>\n",
       "      <td>6.500000</td>\n",
       "      <td>3.000000</td>\n",
       "      <td>5.500000</td>\n",
       "      <td>1.800000</td>\n",
       "      <td>Virginica</td>\n",
       "    </tr>\n",
       "    <tr>\n",
       "      <th>147</th>\n",
       "      <td>6.400000</td>\n",
       "      <td>2.800000</td>\n",
       "      <td>5.600000</td>\n",
       "      <td>2.100000</td>\n",
       "      <td>Virginica</td>\n",
       "    </tr>\n",
       "    <tr>\n",
       "      <th>148</th>\n",
       "      <td>5.000000</td>\n",
       "      <td>3.400000</td>\n",
       "      <td>1.600000</td>\n",
       "      <td>0.400000</td>\n",
       "      <td>Setosa</td>\n",
       "    </tr>\n",
       "    <tr>\n",
       "      <th>149</th>\n",
       "      <td>7.353157</td>\n",
       "      <td>3.387207</td>\n",
       "      <td>6.367472</td>\n",
       "      <td>1.673796</td>\n",
       "      <td>Virginica</td>\n",
       "    </tr>\n",
       "  </tbody>\n",
       "</table>\n",
       "<p>150 rows × 5 columns</p>\n",
       "</div>"
      ],
      "text/plain": [
       "     sepal_length  sepal_width  petal_length  petal_width     variety\n",
       "0        5.700000     3.800000      1.700000     0.300000      Setosa\n",
       "1        5.600000     2.700000      4.200000     1.300000  Versicolor\n",
       "2        6.300000     3.300000      6.000000     2.500000   Virginica\n",
       "3        6.000000     2.900000      4.500000     1.500000  Versicolor\n",
       "4        5.000000     3.000000      1.600000     0.200000      Setosa\n",
       "..            ...          ...           ...          ...         ...\n",
       "145      6.200000     2.800000      4.800000     1.800000   Virginica\n",
       "146      6.500000     3.000000      5.500000     1.800000   Virginica\n",
       "147      6.400000     2.800000      5.600000     2.100000   Virginica\n",
       "148      5.000000     3.400000      1.600000     0.400000      Setosa\n",
       "149      7.353157     3.387207      6.367472     1.673796   Virginica\n",
       "\n",
       "[150 rows x 5 columns]"
      ]
     },
     "execution_count": 8,
     "metadata": {},
     "output_type": "execute_result"
    }
   ],
   "source": [
    "iris_fg = fs.get_feature_group(name=\"iris\", version=1)\n",
    "df = iris_fg.read()\n",
    "df"
   ]
  },
  {
   "cell_type": "code",
   "execution_count": 9,
   "metadata": {},
   "outputs": [
    {
     "data": {
      "text/plain": [
       "'Virginica'"
      ]
     },
     "execution_count": 9,
     "metadata": {},
     "output_type": "execute_result"
    }
   ],
   "source": [
    "label = df.iloc[-1][\"variety\"]\n",
    "label"
   ]
  },
  {
   "cell_type": "code",
   "execution_count": 10,
   "metadata": {},
   "outputs": [],
   "source": [
    "label_flower = \"../assets/\" + label + \".png\"\n",
    "\n",
    "img = Image.open(label_flower)            \n",
    "\n",
    "img.save(\"../assets/actual_iris.png\")"
   ]
  },
  {
   "cell_type": "code",
   "execution_count": 11,
   "metadata": {},
   "outputs": [],
   "source": [
    "monitor_fg = fs.get_or_create_feature_group(name=\"iris_predictions\",\n",
    "                                  version=1,\n",
    "                                  primary_key=[\"datetime\"],\n",
    "                                  description=\"Iris flower Prediction/Outcome Monitoring\"\n",
    "                                 )"
   ]
  },
  {
   "cell_type": "code",
   "execution_count": 16,
   "metadata": {},
   "outputs": [
    {
     "name": "stdout",
     "output_type": "stream",
     "text": [
      "Virginica\n"
     ]
    }
   ],
   "source": [
    "print(label)"
   ]
  },
  {
   "cell_type": "code",
   "execution_count": 17,
   "metadata": {},
   "outputs": [
    {
     "name": "stderr",
     "output_type": "stream",
     "text": [
      "Uploading Dataframe: 100.00% |██████████| Rows 1/1 | Elapsed Time: 00:04 | Remaining Time: 00:00"
     ]
    },
    {
     "name": "stdout",
     "output_type": "stream",
     "text": [
      "Launching job: iris_predictions_1_offline_fg_materialization\n",
      "Job started successfully, you can follow the progress at \n",
      "https://c.app.hopsworks.ai/p/552084/jobs/named/iris_predictions_1_offline_fg_materialization/executions\n"
     ]
    },
    {
     "name": "stderr",
     "output_type": "stream",
     "text": [
      "\n"
     ]
    },
    {
     "data": {
      "text/plain": [
       "(<hsfs.core.job.Job at 0x120729b6af0>, None)"
      ]
     },
     "execution_count": 17,
     "metadata": {},
     "output_type": "execute_result"
    }
   ],
   "source": [
    "now = datetime.now().strftime(\"%m/%d/%Y, %H:%M:%S\")\n",
    "\n",
    "data = {\n",
    "    'prediction': [flower],\n",
    "    'label': [label],\n",
    "    'datetime': [now],\n",
    "}\n",
    "monitor_df = pd.DataFrame(data)\n",
    "monitor_fg.insert(monitor_df)"
   ]
  },
  {
   "cell_type": "code",
   "execution_count": 18,
   "metadata": {},
   "outputs": [
    {
     "name": "stdout",
     "output_type": "stream",
     "text": [
      "Finished: Reading data from Hopsworks, using ArrowFlight (0.65s) \n"
     ]
    },
    {
     "data": {
      "text/html": [
       "<div>\n",
       "<style scoped>\n",
       "    .dataframe tbody tr th:only-of-type {\n",
       "        vertical-align: middle;\n",
       "    }\n",
       "\n",
       "    .dataframe tbody tr th {\n",
       "        vertical-align: top;\n",
       "    }\n",
       "\n",
       "    .dataframe thead th {\n",
       "        text-align: right;\n",
       "    }\n",
       "</style>\n",
       "<table border=\"1\" class=\"dataframe\">\n",
       "  <thead>\n",
       "    <tr style=\"text-align: right;\">\n",
       "      <th></th>\n",
       "      <th>prediction</th>\n",
       "      <th>label</th>\n",
       "      <th>datetime</th>\n",
       "    </tr>\n",
       "  </thead>\n",
       "  <tbody>\n",
       "    <tr>\n",
       "      <th>0</th>\n",
       "      <td>Setosa</td>\n",
       "      <td>Setosa</td>\n",
       "      <td>03/12/2024, 17:39:29</td>\n",
       "    </tr>\n",
       "    <tr>\n",
       "      <th>1</th>\n",
       "      <td>Setosa</td>\n",
       "      <td>Setosa</td>\n",
       "      <td>03/12/2024, 17:41:01</td>\n",
       "    </tr>\n",
       "    <tr>\n",
       "      <th>2</th>\n",
       "      <td>Setosa</td>\n",
       "      <td>Virginica</td>\n",
       "      <td>03/12/2024, 17:59:46</td>\n",
       "    </tr>\n",
       "  </tbody>\n",
       "</table>\n",
       "</div>"
      ],
      "text/plain": [
       "  prediction      label              datetime\n",
       "0     Setosa     Setosa  03/12/2024, 17:39:29\n",
       "1     Setosa     Setosa  03/12/2024, 17:41:01\n",
       "2     Setosa  Virginica  03/12/2024, 17:59:46"
      ]
     },
     "execution_count": 18,
     "metadata": {},
     "output_type": "execute_result"
    }
   ],
   "source": [
    "history_df = monitor_fg.read()\n",
    "history_df"
   ]
  },
  {
   "cell_type": "code",
   "execution_count": null,
   "metadata": {},
   "outputs": [],
   "source": []
  }
 ],
 "metadata": {
  "kernelspec": {
   "display_name": "Python 3",
   "language": "python",
   "name": "python3"
  },
  "language_info": {
   "codemirror_mode": {
    "name": "ipython",
    "version": 3
   },
   "file_extension": ".py",
   "mimetype": "text/x-python",
   "name": "python",
   "nbconvert_exporter": "python",
   "pygments_lexer": "ipython3",
   "version": "3.9.0"
  }
 },
 "nbformat": 4,
 "nbformat_minor": 2
}
